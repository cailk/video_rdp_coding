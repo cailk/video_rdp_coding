{
 "cells": [
  {
   "cell_type": "code",
   "execution_count": 82,
   "id": "d645dcf6",
   "metadata": {},
   "outputs": [
    {
     "name": "stdout",
     "output_type": "stream",
     "text": [
      "Tue Jan 14 18:03:11 2025       \r\n",
      "+-----------------------------------------------------------------------------+\r\n",
      "| NVIDIA-SMI 525.105.17   Driver Version: 525.105.17   CUDA Version: 12.0     |\r\n",
      "|-------------------------------+----------------------+----------------------+\r\n",
      "| GPU  Name        Persistence-M| Bus-Id        Disp.A | Volatile Uncorr. ECC |\r\n",
      "| Fan  Temp  Perf  Pwr:Usage/Cap|         Memory-Usage | GPU-Util  Compute M. |\r\n",
      "|                               |                      |               MIG M. |\r\n",
      "|===============================+======================+======================|\r\n",
      "|   0  Tesla T4            On   | 00000000:2F:00.0 Off |                    0 |\r\n",
      "| N/A   44C    P0    28W /  70W |   2911MiB / 15360MiB |      0%      Default |\r\n",
      "|                               |                      |                  N/A |\r\n",
      "+-------------------------------+----------------------+----------------------+\r\n",
      "                                                                               \r\n",
      "+-----------------------------------------------------------------------------+\r\n",
      "| Processes:                                                                  |\r\n",
      "|  GPU   GI   CI        PID   Type   Process name                  GPU Memory |\r\n",
      "|        ID   ID                                                   Usage      |\r\n",
      "|=============================================================================|\r\n",
      "|    0   N/A  N/A      7811      C   ...nvs/video_perc/bin/python     2908MiB |\r\n",
      "+-----------------------------------------------------------------------------+\r\n"
     ]
    }
   ],
   "source": [
    "import os\n",
    "import sys\n",
    "import itertools\n",
    "import numpy as np\n",
    "import torch\n",
    "import torch.nn as nn\n",
    "import matplotlib.pyplot as plt\n",
    "from torch.utils.data import DataLoader\n",
    "from torchvision import transforms\n",
    "from pytorch_msssim import ssim\n",
    "import lpips\n",
    "from tqdm import tqdm\n",
    "from PIL import Image\n",
    "\n",
    "from models import *\n",
    "from utils import *\n",
    "from helper import *\n",
    "\n",
    "thirdparty_repo_path = os.path.abspath(\"/h/lkcai/code/video-perception/DCVC_HEM\")\n",
    "if thirdparty_repo_path not in sys.path:\n",
    "    sys.path.insert(0, thirdparty_repo_path)\n",
    "\n",
    "from DCVC_HEM.src.models.video_model import DMC\n",
    "from DCVC_HEM.src.models.image_model import IntraNoAR\n",
    "from DCVC_HEM.src.utils.stream_helper import get_state_dict\n",
    "\n",
    "!nvidia-smi\n",
    "\n",
    "device = \"cuda\" if torch.cuda.is_available() else \"cpu\""
   ]
  },
  {
   "cell_type": "code",
   "execution_count": 83,
   "id": "d80f9e01",
   "metadata": {},
   "outputs": [],
   "source": [
    "def load_I_frame_model():\n",
    "    encoder = Encoder(dim=12, nc=1, stochastic=True, quantize_latents=True, L=2).to(device).eval() \n",
    "    decoder_hat = Decoder_Iframe(dim=12).to(device).eval()\n",
    "    encoder.load_state_dict(torch.load('./I3/I_frame_encoder_zdim_12_L_2.pth'))\n",
    "    decoder_hat.load_state_dict(torch.load('./I3/I_frame_decoder_zdim_12_L_2.pth'))\n",
    "    return encoder, decoder_hat"
   ]
  },
  {
   "cell_type": "code",
   "execution_count": 84,
   "id": "legendary-spray",
   "metadata": {},
   "outputs": [
    {
     "name": "stdout",
     "output_type": "stream",
     "text": [
      "Finished Loading MNIST!\n"
     ]
    }
   ],
   "source": [
    "batch_size = 32\n",
    "\n",
    "train_loader, test_loader = get_dataloader(\n",
    "    data_root='./data/',\n",
    "    seq_len=3, \n",
    "    batch_size=batch_size, \n",
    "    num_digits=1\n",
    ")"
   ]
  },
  {
   "cell_type": "code",
   "execution_count": 89,
   "id": "sitting-document",
   "metadata": {},
   "outputs": [],
   "source": [
    "def train_i_one_epoch(i_frame_net, dataloader, optimizer, device, lambd=2., i_q_scale=1.5):\n",
    "    i_frame_net.train()\n",
    "    epoch_loss = 0.0\n",
    "    progress_bar = tqdm(dataloader, desc=\"Training\", leave=False)\n",
    "    \n",
    "    i_q_scale = i_q_scale\n",
    "    bitrates = []\n",
    "    for batch in progress_bar:\n",
    "        x = batch.to(device).permute(0, 4, 1, 2, 3)\n",
    "        x0 = x[:, :, 0, :, :]\n",
    "        \n",
    "        optimizer.zero_grad()\n",
    "        \n",
    "        result = i_frame_net(x0.repeat(1, 3, 1, 1), i_q_scale)\n",
    "        loss = result[\"mse\"].mean() + lambd * result[\"bpp\"].mean()\n",
    "        \n",
    "        bits = result[\"bit\"] / batch_size\n",
    "        bitrates.append(bits)\n",
    "        \n",
    "        loss.backward()\n",
    "        optimizer.step()\n",
    "\n",
    "        epoch_loss += loss.item()\n",
    "        progress_bar.set_postfix(loss=loss.item(), bits=bits)\n",
    "    \n",
    "    print(\"Avg bitrates: \", sum(bitrates) / len(bitrates))\n",
    "\n",
    "    return epoch_loss / len(dataloader)"
   ]
  },
  {
   "cell_type": "code",
   "execution_count": 98,
   "id": "fantastic-haiti",
   "metadata": {},
   "outputs": [
    {
     "name": "stdout",
     "output_type": "stream",
     "text": [
      "Epoch 1/5\n"
     ]
    },
    {
     "name": "stderr",
     "output_type": "stream",
     "text": [
      "                                                                                      \r"
     ]
    },
    {
     "name": "stdout",
     "output_type": "stream",
     "text": [
      "Avg bitrates:  564.0700261067708\n",
      "Epoch 1 Loss: 5.0182\n",
      "Epoch 2/5\n"
     ]
    },
    {
     "name": "stderr",
     "output_type": "stream",
     "text": [
      "                                                                                  \r"
     ]
    },
    {
     "name": "stdout",
     "output_type": "stream",
     "text": [
      "Avg bitrates:  519.2915182291666\n",
      "Epoch 2 Loss: 1.2996\n",
      "Epoch 3/5\n"
     ]
    },
    {
     "name": "stderr",
     "output_type": "stream",
     "text": [
      "                                                                                  \r"
     ]
    },
    {
     "name": "stdout",
     "output_type": "stream",
     "text": [
      "Avg bitrates:  509.1047608561198\n",
      "Epoch 3 Loss: 1.2786\n",
      "Epoch 4/5\n"
     ]
    },
    {
     "name": "stderr",
     "output_type": "stream",
     "text": [
      "                                                                                  \r"
     ]
    },
    {
     "name": "stdout",
     "output_type": "stream",
     "text": [
      "Avg bitrates:  505.1496158528646\n",
      "Epoch 4 Loss: 1.2711\n",
      "Epoch 5/5\n"
     ]
    },
    {
     "name": "stderr",
     "output_type": "stream",
     "text": [
      "                                                                                  \r"
     ]
    },
    {
     "name": "stdout",
     "output_type": "stream",
     "text": [
      "Avg bitrates:  496.08799431966145\n",
      "Epoch 5 Loss: 1.2515\n"
     ]
    }
   ],
   "source": [
    "i_epochs = 5\n",
    "i_bit_lambd = 10.\n",
    "i_q_scales = [3.5, ]\n",
    "\n",
    "for i_q_scale in i_q_scales:\n",
    "    i_frame_model_path = './DCVC_HEM/checkpoints/acmmm2022_image_ssim.pth.tar'\n",
    "    i_state_dict = get_state_dict(i_frame_model_path)\n",
    "    i_frame_net = IntraNoAR()\n",
    "    i_frame_net.load_state_dict(i_state_dict)\n",
    "    i_frame_net = i_frame_net.to(device)\n",
    "\n",
    "    i_optimizer = optim.Adam(i_frame_net.parameters(), lr=1e-4)\n",
    "\n",
    "    for epoch in range(i_epochs):\n",
    "        print(f\"Epoch {epoch + 1}/{i_epochs}\")\n",
    "        i_train_loss = train_i_one_epoch(\n",
    "            i_frame_net, train_loader, i_optimizer, device, \n",
    "            lambd=i_bit_lambd, i_q_scale=i_q_scale\n",
    "        )\n",
    "        print(f\"Epoch {epoch + 1} Loss: {i_train_loss:.4f}\")\n",
    "\n",
    "    torch.save(i_frame_net.state_dict(), \n",
    "        f\"./DCVC_HEM/checkpoints/dcvc-hem_i_bit-lamb-{i_bit_lambd}_scale-{i_q_scale}_ft_epoch_{i_epochs}.pth\")"
   ]
  },
  {
   "cell_type": "code",
   "execution_count": 103,
   "id": "de082015",
   "metadata": {},
   "outputs": [],
   "source": [
    "def train_v_one_epoch(i_frame_net, video_net, dataloader, optimizer, device, lambd=2., y_q_scale=1.2):\n",
    "    video_net.train()\n",
    "    epoch_loss = 0.0\n",
    "    progress_bar = tqdm(dataloader, desc=\"Training\", leave=False)\n",
    "    \n",
    "    i_q_scale = 3.5\n",
    "    mv_y_q_scale = y_q_scale\n",
    "    y_q_scale = y_q_scale\n",
    "    \n",
    "    bitrates = {\"x1\": [], \"x2\": []}\n",
    "    for batch in progress_bar:\n",
    "        x = batch.to(device).permute(0, 4, 1, 2, 3)\n",
    "        x0 = x[:, :, 0, :, :]\n",
    "        x1 = x[:, :, 1, :, :]\n",
    "        x2 = x[:, :, 2, :, :]\n",
    "        h, w = x0.shape[2], x0.shape[3]\n",
    "        \n",
    "        # hx0 = I_enc(x0)[0]\n",
    "        # x0_hat = I_dec(hx0).detach().repeat(1, 3, 1, 1)\n",
    "\n",
    "        optimizer.zero_grad()\n",
    "        \n",
    "        x0_result = i_frame_net.encode_decode(\n",
    "            x0.repeat(1, 3, 1, 1), i_q_scale, None, pic_height=h, pic_width=w)\n",
    "        dpb = {\n",
    "            \"ref_frame\": x0_result[\"x_hat\"].detach(),\n",
    "            \"ref_feature\": None,\n",
    "            \"ref_y\": None,\n",
    "            \"ref_mv_y\": None,\n",
    "        }\n",
    "\n",
    "        x1_result = video_net(\n",
    "            x1.repeat(1, 3, 1, 1), dpb, \n",
    "            mv_y_q_scale=mv_y_q_scale, \n",
    "            y_q_scale=y_q_scale\n",
    "        )\n",
    "        x1_loss = x1_result[\"mse\"].mean() + lambd * x1_result[\"bpp\"].mean()\n",
    "        \n",
    "        x2_result = video_net(\n",
    "            x2.repeat(1, 3, 1, 1), x1_result[\"dpb\"],\n",
    "            mv_y_q_scale=mv_y_q_scale, \n",
    "            y_q_scale=y_q_scale\n",
    "        )\n",
    "        x2_loss = x2_result[\"mse\"].mean() + lambd * x2_result[\"bpp\"].mean()\n",
    "        \n",
    "        loss = x1_loss + x2_loss\n",
    "        \n",
    "        bitrates[\"x1\"].append(x1_result[\"bit\"])\n",
    "        bitrates[\"x2\"].append(x2_result[\"bit\"])\n",
    "        \n",
    "        loss.backward()\n",
    "        optimizer.step()\n",
    "\n",
    "        epoch_loss += loss.item()\n",
    "        progress_bar.set_postfix(\n",
    "            loss=loss.item(), x1_loss=x1_loss.item(), x2_loss=x2_loss.item(),\n",
    "            x1_bit=x1_result[\"bit\"].item(), x2_bit=x2_result[\"bit\"].item())\n",
    "    \n",
    "    print(sum(bitrates[\"x1\"]) / len(bitrates[\"x1\"]))\n",
    "    print(sum(bitrates[\"x2\"]) / len(bitrates[\"x2\"]))\n",
    "\n",
    "    return epoch_loss / len(dataloader)"
   ]
  },
  {
   "cell_type": "code",
   "execution_count": 107,
   "id": "38035e49",
   "metadata": {},
   "outputs": [
    {
     "name": "stdout",
     "output_type": "stream",
     "text": [
      "Epoch 1/5\n"
     ]
    },
    {
     "name": "stderr",
     "output_type": "stream",
     "text": [
      "                                                                                                                                          \r"
     ]
    },
    {
     "name": "stdout",
     "output_type": "stream",
     "text": [
      "tensor(5994.2456, device='cuda:0', grad_fn=<DivBackward0>)\n",
      "tensor(3505.2107, device='cuda:0', grad_fn=<DivBackward0>)\n",
      "Epoch 1 Loss: 0.0883\n",
      "Epoch 2/5\n"
     ]
    },
    {
     "name": "stderr",
     "output_type": "stream",
     "text": [
      "                                                                                                                                          \r"
     ]
    },
    {
     "name": "stdout",
     "output_type": "stream",
     "text": [
      "tensor(5164.0757, device='cuda:0', grad_fn=<DivBackward0>)\n",
      "tensor(2907.7898, device='cuda:0', grad_fn=<DivBackward0>)\n",
      "Epoch 2 Loss: 0.0779\n",
      "Epoch 3/5\n"
     ]
    },
    {
     "name": "stderr",
     "output_type": "stream",
     "text": [
      "                                                                                                                                          \r"
     ]
    },
    {
     "name": "stdout",
     "output_type": "stream",
     "text": [
      "tensor(4650.8965, device='cuda:0', grad_fn=<DivBackward0>)\n",
      "tensor(2513.6367, device='cuda:0', grad_fn=<DivBackward0>)\n",
      "Epoch 3 Loss: 0.0708\n",
      "Epoch 4/5\n"
     ]
    },
    {
     "name": "stderr",
     "output_type": "stream",
     "text": [
      "                                                                                                                                          \r"
     ]
    },
    {
     "name": "stdout",
     "output_type": "stream",
     "text": [
      "tensor(4420.4370, device='cuda:0', grad_fn=<DivBackward0>)\n",
      "tensor(2368.2375, device='cuda:0', grad_fn=<DivBackward0>)\n",
      "Epoch 4 Loss: 0.0681\n",
      "Epoch 5/5\n"
     ]
    },
    {
     "name": "stderr",
     "output_type": "stream",
     "text": [
      "                                                                                                                                          \r"
     ]
    },
    {
     "name": "stdout",
     "output_type": "stream",
     "text": [
      "tensor(4207.6021, device='cuda:0', grad_fn=<DivBackward0>)\n",
      "tensor(2182.7637, device='cuda:0', grad_fn=<DivBackward0>)\n",
      "Epoch 5 Loss: 0.0649\n"
     ]
    },
    {
     "ename": "NameError",
     "evalue": "name 'lambd' is not defined",
     "output_type": "error",
     "traceback": [
      "\u001b[0;31m---------------------------------------------------------------------------\u001b[0m",
      "\u001b[0;31mNameError\u001b[0m                                 Traceback (most recent call last)",
      "\u001b[0;32m<ipython-input-107-dfea8ca4024c>\u001b[0m in \u001b[0;36m<module>\u001b[0;34m\u001b[0m\n\u001b[1;32m     31\u001b[0m \u001b[0;34m\u001b[0m\u001b[0m\n\u001b[1;32m     32\u001b[0m torch.save(video_net.state_dict(), \n\u001b[0;32m---> 33\u001b[0;31m     f\"./DCVC_HEM/checkpoints/dcvc-hem_v_bit-lamb-{lambd}_scale-{y_q_scale}_ft_epoch_{v_epochs}.pth\")\n\u001b[0m",
      "\u001b[0;31mNameError\u001b[0m: name 'lambd' is not defined"
     ]
    }
   ],
   "source": [
    "v_epochs = 5\n",
    "v_bit_lambd = 1.\n",
    "y_q_scale = 1.2\n",
    "\n",
    "# pretrained quantization scales\n",
    "# tensor([1.5472, 1.1546, 0.8497, 0.6148])\n",
    "# tensor([1.2201, 0.9514, 0.7052, 0.5229])\n",
    "# tensor([1.2290, 1.1469, 1.0580, 0.9737])\n",
    "\n",
    "i_frame_model_path = './DCVC_HEM/checkpoints/dcvc-hem_i_bit-lamb-5.0_scale-3.5_ft_epoch_5.pth'\n",
    "i_state_dict = get_state_dict(i_frame_model_path)\n",
    "i_frame_net = IntraNoAR()\n",
    "i_frame_net.load_state_dict(i_state_dict)\n",
    "i_frame_net = i_frame_net.to(device)\n",
    "i_frame_net.eval()\n",
    "\n",
    "# video_net\n",
    "model_path = './DCVC_HEM/checkpoints/acmmm2022_video_ssim.pth.tar'\n",
    "p_state_dict = get_state_dict(model_path)\n",
    "video_net = DMC()\n",
    "video_net.load_state_dict(p_state_dict)\n",
    "video_net = video_net.to(device)\n",
    "\n",
    "v_optimizer = optim.Adam(video_net.parameters(), lr=1e-4)\n",
    "\n",
    "for epoch in range(v_epochs):\n",
    "    print(f\"Epoch {epoch + 1}/{v_epochs}\")\n",
    "    train_loss = train_v_one_epoch(\n",
    "        i_frame_net, video_net, train_loader, v_optimizer, device, lambd=v_bit_lambd, y_q_scale=y_q_scale)\n",
    "    print(f\"Epoch {epoch + 1} Loss: {train_loss:.4f}\")\n",
    "\n",
    "torch.save(video_net.state_dict(), \n",
    "    f\"./DCVC_HEM/checkpoints/dcvc-hem_v_bit-lamb-{v_bit_lambd}_scale-{y_q_scale}_ft_epoch_{v_epochs}.pth\")"
   ]
  },
  {
   "cell_type": "code",
   "execution_count": 108,
   "id": "color-awareness",
   "metadata": {},
   "outputs": [],
   "source": [
    "torch.save(video_net.state_dict(), \n",
    "    f\"./DCVC_HEM/checkpoints/dcvc-hem_v_bit-lamb-{v_bit_lambd}_scale-{y_q_scale}_ft_epoch_{v_epochs}.pth\")"
   ]
  },
  {
   "cell_type": "code",
   "execution_count": 115,
   "id": "c4d34798",
   "metadata": {},
   "outputs": [
    {
     "name": "stdout",
     "output_type": "stream",
     "text": [
      "[24.155969619750977, 20.863826751708984, 20.469219207763672]\n"
     ]
    },
    {
     "data": {
      "text/plain": [
       "(-0.5, 191.5, 127.5, -0.5)"
      ]
     },
     "execution_count": 115,
     "metadata": {},
     "output_type": "execute_result"
    },
    {
     "data": {
      "image/png": "[encoded data removed]",
      "text/plain": [
       "<Figure size 432x288 with 1 Axes>"
      ]
     },
     "metadata": {
      "needs_background": "light"
     },
     "output_type": "display_data"
    }
   ],
   "source": [
    "i_frame_model_path = './DCVC_HEM/checkpoints/dcvc-hem_i_bit-lamb-5.0_scale-3.5_ft_epoch_5.pth'\n",
    "\n",
    "i_state_dict = get_state_dict(i_frame_model_path)\n",
    "i_frame_net = IntraNoAR()\n",
    "i_frame_net.load_state_dict(i_state_dict)\n",
    "i_frame_net = i_frame_net.to(device)\n",
    "i_frame_net.eval()\n",
    "\n",
    "model_path = './DCVC_HEM/checkpoints/dcvc-hem_v_bit-lamb-1.0_scale-1.2_ft_epoch_5.pth'\n",
    "\n",
    "p_state_dict = get_state_dict(model_path)\n",
    "video_net = DMC()\n",
    "video_net.load_state_dict(p_state_dict)\n",
    "video_net = video_net.cuda()\n",
    "video_net.eval()\n",
    "\n",
    "x0_path = \"/h/lkcai/code/video-perception/reconstructions/R1-eps_1/x1c.png\"\n",
    "x1_path = \"/h/lkcai/code/video-perception/reconstructions/R1-eps_1/x2c.png\"\n",
    "x2_path = \"/h/lkcai/code/video-perception/reconstructions/R1-eps_1/x3c.png\"\n",
    "\n",
    "x0_hat_path = \"/h/lkcai/code/video-perception/reconstructions/R1-eps_1/x1c_hat_12.png\"\n",
    "\n",
    "x0 = Image.open(x0_path)\n",
    "x0_hat = Image.open(x0_hat_path)\n",
    "x1 = Image.open(x1_path)\n",
    "x2 = Image.open(x2_path)\n",
    "\n",
    "transform = transforms.Compose([\n",
    "    transforms.Resize(64),\n",
    "    transforms.ToTensor()\n",
    "])\n",
    "\n",
    "x0 = transform(x0)[0].unsqueeze(0).unsqueeze(0).cuda()\n",
    "x1 = transform(x1)[0].unsqueeze(0).unsqueeze(0).cuda()\n",
    "x2 = transform(x2)[0].unsqueeze(0).unsqueeze(0).cuda()\n",
    "# x0_hat = transform(x0_hat)[0].unsqueeze(0).unsqueeze(0).cuda()\n",
    "\n",
    "# x0_hat = x0_hat.repeat(1, 3, 1, 1)\n",
    "x1 = x1.repeat(1, 3, 1, 1)\n",
    "x2 = x2.repeat(1, 3, 1, 1)\n",
    "\n",
    "rate_idx = 0\n",
    "i_frame_q_scale = torch.tensor(4.5)\n",
    "p_frame_y_q_scale = torch.tensor(3.) # p_frame_y_q_scales[rate_idx]\n",
    "p_frame_mv_y_q_scale = torch.tensor(3.) # p_frame_y_q_scales[rate_idx]\n",
    "\n",
    "bits = []\n",
    "with torch.no_grad():\n",
    "    h = x0.shape[2]\n",
    "    w = x0.shape[3]\n",
    "\n",
    "    bin_path = None\n",
    "\n",
    "    x0_result = i_frame_net.encode_decode(\n",
    "        x0.repeat(1, 3, 1, 1), i_frame_q_scale, bin_path, pic_height=h, pic_width=w)\n",
    "    x0_hat = x0_result['x_hat'].clamp_(0, 1)\n",
    "    bits.append(x0_result['bit'])\n",
    "    dpb = {\n",
    "        \"ref_frame\": x0_hat,\n",
    "        \"ref_feature\": None,\n",
    "        \"ref_y\": None,\n",
    "        \"ref_mv_y\": None,\n",
    "    }\n",
    "\n",
    "    x1_result = video_net.encode_decode(\n",
    "        x1, dpb, bin_path, pic_height=h, pic_width=w,\n",
    "        mv_y_q_scale=p_frame_mv_y_q_scale,\n",
    "        y_q_scale=p_frame_y_q_scale\n",
    "    )\n",
    "    dpb = x1_result[\"dpb\"]\n",
    "    x1_hat = dpb[\"ref_frame\"].clamp_(0, 1)\n",
    "    bits.append(x1_result['bit'])\n",
    "\n",
    "    x2_result = video_net.encode_decode(\n",
    "        x2, dpb, bin_path, pic_height=h, pic_width=w,\n",
    "        mv_y_q_scale=p_frame_mv_y_q_scale,\n",
    "        y_q_scale=p_frame_y_q_scale\n",
    "    )\n",
    "    dpb = x2_result[\"dpb\"]\n",
    "    x2_hat = dpb[\"ref_frame\"].clamp_(0, 1)\n",
    "    bits.append(x2_result['bit'])\n",
    "\n",
    "print(bits)\n",
    "\n",
    "x0_hat_dcvc = x0_hat.mean(dim=1)\n",
    "x1_hat_dcvc = x1_hat.mean(dim=1)\n",
    "x2_hat_dcvc = x2_hat.mean(dim=1)\n",
    "\n",
    "x0 = x0.squeeze().cpu().data.numpy()\n",
    "x1 = x1.squeeze()[1].cpu().data.numpy()\n",
    "x2 = x2.squeeze()[2].cpu().data.numpy()\n",
    "\n",
    "x = np.concatenate([x0, x1, x2], axis=1)\n",
    "\n",
    "x0_hat = x0_hat.squeeze()[0].cpu().data.numpy()\n",
    "x1_hat_dcvc = x1_hat_dcvc.squeeze().cpu().data.numpy()\n",
    "x2_hat_dcvc = x2_hat_dcvc.squeeze().cpu().data.numpy()\n",
    "\n",
    "x_hat_dcvc = np.concatenate([x0_hat, x1_hat_dcvc, x2_hat_dcvc], axis=1)\n",
    "\n",
    "res_plot = np.concatenate([x, x_hat_dcvc], axis=0)\n",
    "        \n",
    "plt.imshow(res_plot, cmap = 'gray')\n",
    "plt.axis('off')\n",
    "\n",
    "# plt.imsave(f\"./reconstructions/R1-eps_1/x2c_DCVC.png\", x1_hat_dcvc, cmap='gray')\n",
    "# plt.imsave(f\"./reconstructions/R1-eps_1/x3c_DCVC.png\", x2_hat_dcvc, cmap='gray')"
   ]
  },
  {
   "cell_type": "code",
   "execution_count": null,
   "id": "71ffd5da",
   "metadata": {},
   "outputs": [],
   "source": []
  }
 ],
 "metadata": {
  "kernelspec": {
   "display_name": "Python (3.6)",
   "language": "python",
   "name": "video_perc"
  },
  "language_info": {
   "codemirror_mode": {
    "name": "ipython",
    "version": 3
   },
   "file_extension": ".py",
   "mimetype": "text/x-python",
   "name": "python",
   "nbconvert_exporter": "python",
   "pygments_lexer": "ipython3",
   "version": "3.6.13"
  }
 },
 "nbformat": 4,
 "nbformat_minor": 5
}
